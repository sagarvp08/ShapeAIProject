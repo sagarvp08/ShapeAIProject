{
 "cells": [
  {
   "cell_type": "code",
   "execution_count": 28,
   "id": "f20f097c-1173-4f3a-afb9-87ed1af4fc3a",
   "metadata": {},
   "outputs": [
    {
     "name": "stdin",
     "output_type": "stream",
     "text": [
      "Weather Finding 2.0\n",
      "\n",
      "Enter the City/ State/ Country name:  saswad\n"
     ]
    },
    {
     "name": "stdout",
     "output_type": "stream",
     "text": [
      "-------------------------------------------------------------\n",
      "Weather Status for - SASWAD |  26 Jul 2021 | Mon | 11:37:07 PM\n",
      "-------------------------------------------------------------\n",
      "Current temperature is: 21.50 °C\n",
      "Current weather desc  : overcast clouds\n",
      "Current Humidity      : 85 %\n",
      "Current wind speed    : 4.86 kmph\n",
      "====================================================\n"
     ]
    }
   ],
   "source": [
    "import requests\n",
    "\n",
    "from datetime import datetime\n",
    "\n",
    "api_key = '31326b14f70041cdf36ea9af2d6a1cfa'\n",
    "location = input(\"Weather Finding 2.0\\n\\nEnter the City/ State/ Country name: \")\n",
    "\n",
    "site_api_link = \"https://api.openweathermap.org/data/2.5/weather?q=\"+location+\"&appid=\"+api_key\n",
    "api_link = requests.get(site_api_link)\n",
    "api_data = api_link.json()\n",
    "\n",
    "city_name = ((api_data['main']['temp']) - 273.15)\n",
    "weather_desc = api_data['weather'][0]['description']\n",
    "hmdty = api_data['main']['humidity']\n",
    "wind_spd = api_data['wind']['speed']\n",
    "sunr = api_data['sys']\n",
    "date_time = datetime.now().strftime(\"%d %b %Y | %a | %I:%M:%S %p\")\n",
    "\n",
    "print (\"-------------------------------------------------------------\")\n",
    "print (\"Weather Status for - {} |  {}\".format(location.upper(), date_time,sunr))\n",
    "print (\"-------------------------------------------------------------\")\n",
    "print (\"Current temperature is: {:.2f} °C\".format(city_name))\n",
    "print (\"Current weather desc  :\",weather_desc)\n",
    "print (\"Current Humidity      :\",hmdty, '%')\n",
    "print (\"Current wind speed    :\",wind_spd ,'kmph')\n",
    "\n",
    "print(\"====================================================\")\n",
    "\n"
   ]
  },
  {
   "cell_type": "code",
   "execution_count": null,
   "id": "999c37f4-906a-489e-9b3d-e490fca03d86",
   "metadata": {},
   "outputs": [],
   "source": []
  }
 ],
 "metadata": {
  "kernelspec": {
   "display_name": "Python 3",
   "language": "python",
   "name": "python3"
  },
  "language_info": {
   "codemirror_mode": {
    "name": "ipython",
    "version": 3
   },
   "file_extension": ".py",
   "mimetype": "text/x-python",
   "name": "python",
   "nbconvert_exporter": "python",
   "pygments_lexer": "ipython3",
   "version": "3.8.8"
  }
 },
 "nbformat": 4,
 "nbformat_minor": 5
}
